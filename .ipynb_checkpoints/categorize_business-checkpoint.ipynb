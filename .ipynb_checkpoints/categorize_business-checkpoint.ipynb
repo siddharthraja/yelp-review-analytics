{
 "metadata": {
  "name": ""
 },
 "nbformat": 3,
 "nbformat_minor": 0,
 "worksheets": [
  {
   "cells": [
    {
     "cell_type": "code",
     "collapsed": false,
     "input": [
      "import json"
     ],
     "language": "python",
     "metadata": {},
     "outputs": [],
     "prompt_number": 9
    },
    {
     "cell_type": "code",
     "collapsed": false,
     "input": [
      "categories = {}\n",
      "json_data = open('yelp_academic_dataset_business.json')\n",
      "#data = json.load(json_data)\n",
      "#file_writer = open('yelp-data/yelp_business_categories.json')\n",
      "for d in json_data:\n",
      "    data = json.loads(d)\n",
      "    #print data[\"business_id\"]\n",
      "    for category in data['categories']:\n",
      "        if category in categories:\n",
      "            categories[category].append({\"business_id\":data[\"business_id\"], \"name\": data[\"name\"]})\n",
      "        else:\n",
      "            categories[category]=[{\"business_id\":data[\"business_id\"], \"name\": data[\"name\"]}]  \n",
      "    \n",
      "                                        "
     ],
     "language": "python",
     "metadata": {},
     "outputs": [],
     "prompt_number": 13
    },
    {
     "cell_type": "code",
     "collapsed": false,
     "input": [
      "json.dump(categories, open('yelp_business_categories.json', 'wb'))"
     ],
     "language": "python",
     "metadata": {},
     "outputs": [],
     "prompt_number": 14
    },
    {
     "cell_type": "code",
     "collapsed": false,
     "input": [],
     "language": "python",
     "metadata": {},
     "outputs": []
    }
   ],
   "metadata": {}
  }
 ]
}