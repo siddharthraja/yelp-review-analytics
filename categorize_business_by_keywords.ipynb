{
 "metadata": {
  "name": ""
 },
 "nbformat": 3,
 "nbformat_minor": 0,
 "worksheets": [
  {
   "cells": [
    {
     "cell_type": "code",
     "collapsed": false,
     "input": [
      "import json\n",
      "import operator"
     ],
     "language": "python",
     "metadata": {},
     "outputs": [],
     "prompt_number": 14
    },
    {
     "cell_type": "code",
     "collapsed": false,
     "input": [
      "json_data = open('yelp-data/data.json')\n",
      "data = json.loads(json_data.read())"
     ],
     "language": "python",
     "metadata": {},
     "outputs": [],
     "prompt_number": 2
    },
    {
     "cell_type": "code",
     "collapsed": false,
     "input": [
      "keywords = {}\n",
      "for business in data:\n",
      "    for rating in range(1,6):\n",
      "        if 'keywords' in data[business][str(rating)]:\n",
      "            for k in data[business][str(rating)]['keywords']:\n",
      "                #print k\n",
      "                if k['text'] not in keywords:\n",
      "                    keywords[k['text']] = [{\"business_id\":business, \"relevance\":k['relevance']}]\n",
      "                else:\n",
      "                    keywords[k['text']].append({\"business_id\":business, \"relevance\":k['relevance']})\n",
      "    \n"
     ],
     "language": "python",
     "metadata": {},
     "outputs": [],
     "prompt_number": 20
    },
    {
     "cell_type": "code",
     "collapsed": false,
     "input": [
      "file_writer = open('categories_keywords.json','w')\n",
      "file_writer.write(json.dumps(keywords))"
     ],
     "language": "python",
     "metadata": {},
     "outputs": [],
     "prompt_number": 21
    },
    {
     "cell_type": "code",
     "collapsed": false,
     "input": [],
     "language": "python",
     "metadata": {},
     "outputs": []
    }
   ],
   "metadata": {}
  }
 ]
}